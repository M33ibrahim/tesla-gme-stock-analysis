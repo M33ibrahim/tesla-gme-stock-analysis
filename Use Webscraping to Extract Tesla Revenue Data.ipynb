import pandas as pd
import yfinance as yf
import matplotlib.pyplot as plt
from bs4 import BeautifulSoup
from selenium import webdriver
from selenium.webdriver.chrome.options import Options
import time

# --------------- Setup Selenium ----------------
chrome_options = Options()
chrome_options.add_argument("--headless")  # run in background
driver = webdriver.Chrome(options=chrome_options)

def get_revenue_data_selenium(url, company_keyword):
    driver.get(url)
    time.sleep(5)  # wait for JS to load

    html = driver.page_source
    soup = BeautifulSoup(html, 'html.parser')
    tables = soup.find_all("table")

    for table in tables:
        if company_keyword.lower() in str(table).lower():
            df = pd.read_html(str(table))[0]
            df.columns = ["Date", "Revenue"]
            df["Revenue"] = df["Revenue"].replace('[\$,]', '', regex=True)
            df = df[df["Revenue"] != ""]
            return df.reset_index(drop=True)

    return pd.DataFrame(columns=["Date", "Revenue"])

# --------------- Question 1: Tesla Stock ----------------
tesla_data = yf.download("TSLA", start="2010-01-01", end="2025-08-01", auto_adjust=False)
tesla_data.reset_index(inplace=True)
print("Tesla Stock Data (First 5 Rows):")
print(tesla_data.head())

# --------------- Question 2: Tesla Revenue ----------------
tesla_revenue = get_revenue_data_selenium("https://www.macrotrends.net/stocks/charts/TSLA/tesla/revenue", "Tesla Quarterly Revenue")
print("\nTesla Revenue Data (Last 5 Rows):")
print(tesla_revenue.tail())

# --------------- Question 3: GME Stock ----------------
gme_data = yf.download("GME", start="2010-01-01", end="2025-08-01", auto_adjust=False)
gme_data.reset_index(inplace=True)
print("\nGameStop Stock Data (First 5 Rows):")
print(gme_data.head())

# --------------- Question 4: GME Revenue ----------------
gme_revenue = get_revenue_data_selenium("https://www.macrotrends.net/stocks/charts/GME/gamestop/revenue", "GameStop Quarterly Revenue")
print("\nGameStop Revenue Data (Last 5 Rows):")
print(gme_revenue.tail())

# --------------- Question 5: Tesla Stock Graph ----------------
def make_graph(data, title):
    plt.figure(figsize=(12, 6))
    plt.plot(data["Date"], data["Close"])
    plt.title(title)
    plt.xlabel("Date")
    plt.ylabel("Closing Price")
    plt.grid(True)
    plt.tight_layout()
    plt.show()

make_graph(tesla_data, "Tesla Stock Price (2010–2025)")

# --------------- Question 6: GME Stock Graph ----------------
make_graph(gme_data, "GameStop Stock Price (2010–2025)")

# Clean up browser
driver.quit()

